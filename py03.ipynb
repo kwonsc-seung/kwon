{
 "cells": [
  {
   "cell_type": "markdown",
   "id": "dd065dcc",
   "metadata": {},
   "source": [
    "# 넘파이 Numpy"
   ]
  },
  {
   "cell_type": "markdown",
   "id": "30809b10",
   "metadata": {},
   "source": [
    "## numpy as np"
   ]
  },
  {
   "cell_type": "code",
   "execution_count": 2,
   "id": "cd65ed34",
   "metadata": {},
   "outputs": [],
   "source": [
    "# numpy\n",
    "import numpy as np\n",
    "data1 = [1,2,3,4,5]\n",
    "data2 = [1,2,3,4,5,6]"
   ]
  },
  {
   "cell_type": "code",
   "execution_count": 6,
   "id": "d07052a3",
   "metadata": {},
   "outputs": [
    {
     "data": {
      "text/plain": [
       "(array([1, 2, 3, 4, 5]), array([1, 2, 3, 4, 5, 6]))"
      ]
     },
     "execution_count": 6,
     "metadata": {},
     "output_type": "execute_result"
    }
   ],
   "source": [
    "arr1 = np.array(data1)\n",
    "arr2 = np.array(data2)\n",
    "arr1, arr2"
   ]
  },
  {
   "cell_type": "code",
   "execution_count": 8,
   "id": "05ede0dd",
   "metadata": {},
   "outputs": [
    {
     "data": {
      "text/plain": [
       "((5,), dtype('int64'))"
      ]
     },
     "execution_count": 8,
     "metadata": {},
     "output_type": "execute_result"
    }
   ],
   "source": [
    "arr1.shape , arr1.dtype"
   ]
  },
  {
   "cell_type": "code",
   "execution_count": 9,
   "id": "aefa5294",
   "metadata": {},
   "outputs": [
    {
     "data": {
      "text/plain": [
       "array([[1, 2, 3],\n",
       "       [4, 5, 6]])"
      ]
     },
     "execution_count": 9,
     "metadata": {},
     "output_type": "execute_result"
    }
   ],
   "source": [
    "arr3 = np.array([[1,2,3],[4,5,6]])\n",
    "arr3"
   ]
  },
  {
   "cell_type": "code",
   "execution_count": 10,
   "id": "e937aa16",
   "metadata": {},
   "outputs": [
    {
     "data": {
      "text/plain": [
       "((2, 3), dtype('int64'))"
      ]
     },
     "execution_count": 10,
     "metadata": {},
     "output_type": "execute_result"
    }
   ],
   "source": [
    "arr3.shape, arr3.dtype"
   ]
  },
  {
   "cell_type": "code",
   "execution_count": 14,
   "id": "286a0f4f",
   "metadata": {},
   "outputs": [
    {
     "data": {
      "text/plain": [
       "(array([0., 0., 0., 0., 0., 0., 0., 0., 0., 0.]), (10,), dtype('float64'))"
      ]
     },
     "execution_count": 14,
     "metadata": {},
     "output_type": "execute_result"
    }
   ],
   "source": [
    "zz = np.zeros(10)\n",
    "zz, zz.shape , zz.dtype"
   ]
  },
  {
   "cell_type": "code",
   "execution_count": 16,
   "id": "9331a55d",
   "metadata": {},
   "outputs": [
    {
     "data": {
      "text/plain": [
       "(array([[0., 0., 0., 0., 0.],\n",
       "        [0., 0., 0., 0., 0.],\n",
       "        [0., 0., 0., 0., 0.]]),\n",
       " (3, 5),\n",
       " dtype('float64'))"
      ]
     },
     "execution_count": 16,
     "metadata": {},
     "output_type": "execute_result"
    }
   ],
   "source": [
    "zzz = np.zeros((3,5))\n",
    "zzz, zzz.shape, zzz.dtype"
   ]
  },
  {
   "cell_type": "code",
   "execution_count": 17,
   "id": "8a2fe976",
   "metadata": {},
   "outputs": [
    {
     "data": {
      "text/plain": [
       "(array([1., 1., 1., 1., 1., 1., 1.]), (7,), dtype('float64'))"
      ]
     },
     "execution_count": 17,
     "metadata": {},
     "output_type": "execute_result"
    }
   ],
   "source": [
    "oo = np.ones(7)\n",
    "oo , oo.shape , oo.dtype"
   ]
  },
  {
   "cell_type": "code",
   "execution_count": 19,
   "id": "385fb15f",
   "metadata": {},
   "outputs": [
    {
     "data": {
      "text/plain": [
       "(array([[1., 1., 1., 1., 1., 1., 1., 1., 1., 1.],\n",
       "        [1., 1., 1., 1., 1., 1., 1., 1., 1., 1.]]),\n",
       " (2, 10),\n",
       " dtype('float64'))"
      ]
     },
     "execution_count": 19,
     "metadata": {},
     "output_type": "execute_result"
    }
   ],
   "source": [
    "ooo = np.ones((2,10))\n",
    "ooo, ooo.shape, ooo.dtype"
   ]
  },
  {
   "cell_type": "code",
   "execution_count": 20,
   "id": "6b42eb40",
   "metadata": {},
   "outputs": [
    {
     "data": {
      "text/plain": [
       "array([0, 1, 2, 3, 4, 5, 6, 7, 8, 9])"
      ]
     },
     "execution_count": 20,
     "metadata": {},
     "output_type": "execute_result"
    }
   ],
   "source": [
    "np.arange(10)"
   ]
  },
  {
   "cell_type": "code",
   "execution_count": 21,
   "id": "0eef0a58",
   "metadata": {},
   "outputs": [
    {
     "data": {
      "text/plain": [
       "array([ 4,  5,  6,  7,  8,  9, 10, 11])"
      ]
     },
     "execution_count": 21,
     "metadata": {},
     "output_type": "execute_result"
    }
   ],
   "source": [
    "np.arange(4,12)"
   ]
  },
  {
   "cell_type": "markdown",
   "id": "fbe1aab4",
   "metadata": {},
   "source": [
    "## np.array 연산"
   ]
  },
  {
   "cell_type": "code",
   "execution_count": 22,
   "id": "858bb10e",
   "metadata": {},
   "outputs": [
    {
     "data": {
      "text/plain": [
       "(array([[1, 2, 3],\n",
       "        [4, 5, 6]]),\n",
       " array([[10, 11, 12],\n",
       "        [13, 14, 15]]))"
      ]
     },
     "execution_count": 22,
     "metadata": {},
     "output_type": "execute_result"
    }
   ],
   "source": [
    "arr1 = np.array([[1,2,3],[4,5,6]])\n",
    "arr2 = np.array([[10,11,12],[13,14,15]])\n",
    "arr1, arr2"
   ]
  },
  {
   "cell_type": "code",
   "execution_count": 24,
   "id": "fbac7e2d",
   "metadata": {},
   "outputs": [
    {
     "name": "stdout",
     "output_type": "stream",
     "text": [
      "(2, 3) int64\n",
      "(2, 3) int64\n"
     ]
    }
   ],
   "source": [
    "print(arr1.shape , arr1.dtype)\n",
    "print(arr2.shape , arr2.dtype)"
   ]
  },
  {
   "cell_type": "code",
   "execution_count": null,
   "id": "12a0f0ee",
   "metadata": {},
   "outputs": [
    {
     "name": "stdout",
     "output_type": "stream",
     "text": [
      "[[ 3  6  9]\n",
      " [12 15 18]]\n",
      "[[11 13 15]\n",
      " [17 19 21]]\n",
      "[[-9 -9 -9]\n",
      " [-9 -9 -9]]\n",
      "[[ 1.   2.9  4.8]\n",
      " [ 6.7  8.6 10.5]]\n",
      "[[10 22 36]\n",
      " [52 70 90]]\n",
      "[[0.1        0.18181818 0.25      ]\n",
      " [0.30769231 0.35714286 0.4       ]]\n",
      "[[23 35 47]\n",
      " [26 38 50]]\n",
      "[[ 22  66 132]\n",
      " [ 88 165 264]]\n"
     ]
    }
   ],
   "source": [
    "#브로드캐스트 : 같은 크기의 배열을 가지지 않아도 요소별 연산이 가능함\n",
    "result0 = arr1 * 3\n",
    "result1 = arr1 + arr2\n",
    "result2 = arr1 - arr2\n",
    "result3 = arr1*2 - arr2/10\n",
    "result4 = arr1 * arr2\n",
    "result5 = arr1 / arr2\n",
    "\n",
    "arr3 = np.array([22,33,44])\n",
    "print(result0)\n",
    "print(result1)\n",
    "print(result2)\n",
    "print(result3)\n",
    "print(result4)\n",
    "print(result5)\n",
    "print(arr1 + arr3)\n",
    "print(arr1 * arr3)\n",
    "print(arr1 * arr3)\n",
    "print(arr1 * arr3)\n"
   ]
  },
  {
   "cell_type": "markdown",
   "id": "1a1766d6",
   "metadata": {},
   "source": [
    "# 1차원"
   ]
  },
  {
   "cell_type": "code",
   "execution_count": 42,
   "id": "24e7cbef",
   "metadata": {},
   "outputs": [
    {
     "data": {
      "text/plain": [
       "(array([0, 1, 2, 3, 4]), (5,), dtype('int64'), 5, 1)"
      ]
     },
     "execution_count": 42,
     "metadata": {},
     "output_type": "execute_result"
    }
   ],
   "source": [
    "# 1차원과 속성들\n",
    "# shape : 배열의 차원정보\n",
    "# dtype : 배열 원소의 자료형\n",
    "#size : 배열의 원소 총 개수\n",
    "# ndim : 축의 개수\n",
    "arr = np.arange(5)\n",
    "arr, arr.shape, arr.dtype, arr.size, arr.ndim"
   ]
  },
  {
   "cell_type": "code",
   "execution_count": 44,
   "id": "e79bfa3e",
   "metadata": {},
   "outputs": [
    {
     "name": "stdout",
     "output_type": "stream",
     "text": [
      "[1 2 3 4] int64\n",
      "['1' '2' 'a' 'b'] <U21\n",
      "['1' '2' '3' '4'] <U1\n"
     ]
    }
   ],
   "source": [
    "arr1 = np.array([1,2,3,4])\n",
    "arr2 = np.array([1,2,'a','b'])\n",
    "arr3 = np.array([1,2,3,4], dtype='str')\n",
    "print(arr1, arr1.dtype)\n",
    "print(arr2, arr2.dtype)\n",
    "print(arr3, arr3.dtype)"
   ]
  },
  {
   "cell_type": "code",
   "execution_count": 56,
   "id": "c5ae47a9",
   "metadata": {},
   "outputs": [
    {
     "name": "stdout",
     "output_type": "stream",
     "text": [
      "[ 0 20 40 60 80]\n",
      "[ 0 20 40 60 80]\n"
     ]
    }
   ],
   "source": [
    "arr4 = np.full((2,4),\"없어\")\n",
    "arr4\n",
    "arr5 = np.eye(3)\n",
    "arr5\n",
    "arr6 = np.linspace(0,100,5, endpoint=False, dtype=\"int64\")\n",
    "print(arr6)\n",
    "arr7 = np.arange(0,100,20)\n",
    "print(arr7)"
   ]
  },
  {
   "cell_type": "markdown",
   "id": "81d4dc11",
   "metadata": {},
   "source": [
    "# 2차원"
   ]
  },
  {
   "cell_type": "code",
   "execution_count": 61,
   "id": "4c50a27f",
   "metadata": {},
   "outputs": [
    {
     "data": {
      "text/plain": [
       "(array([[1, 2],\n",
       "        [3, 4]]),\n",
       " (2, 2),\n",
       " 4,\n",
       " dtype('int64'),\n",
       " 2,\n",
       " numpy.ndarray)"
      ]
     },
     "execution_count": 61,
     "metadata": {},
     "output_type": "execute_result"
    }
   ],
   "source": [
    "arr20 = np.array([[1,2],[3,4]])\n",
    "arr20, arr20.shape, arr20.size, arr20.dtype, arr20.ndim, type(arr20)"
   ]
  },
  {
   "cell_type": "code",
   "execution_count": 70,
   "id": "c11c13e2",
   "metadata": {},
   "outputs": [
    {
     "name": "stdout",
     "output_type": "stream",
     "text": [
      "[[1 2 3]\n",
      " [4 5 6]\n",
      " [7 8 9]] (3, 3) 9 int64 2 <class 'numpy.ndarray'>\n",
      "[[ 1  2  3  4  5]\n",
      " [ 6  7  8  9 10]] (2, 5) 10 int64 2 <class 'numpy.ndarray'>\n",
      "[[ 1  2  3  4  5  6]\n",
      " [ 7  8  9 10 11 12]\n",
      " [13 14 15 16 17 18]] (3, 6) 18 int64 2 <class 'numpy.ndarray'>\n"
     ]
    }
   ],
   "source": [
    "try:\n",
    "    arr21 = np.arange(1,10).reshape(3,3)\n",
    "    print(arr21, arr21.shape, arr21.size, arr21.dtype, arr21.ndim, type(arr21))\n",
    "    arr22 = np.arange(1,11).reshape(2,5)\n",
    "    print(arr22, arr22.shape, arr22.size, arr22.dtype, arr22.ndim, type(arr22))\n",
    "    arr23 = np.arange(1,19).reshape(3,6)\n",
    "    print(arr23, arr23.shape, arr23.size, arr23.dtype, arr23.ndim, type(arr23))\n",
    "\n",
    "except valueError as e:\n",
    "    print(\"차원과 사이즈가 맞지 않습니다:\", e)"
   ]
  },
  {
   "cell_type": "markdown",
   "id": "109abcfe",
   "metadata": {},
   "source": [
    "# 인덱싱(마스크)"
   ]
  },
  {
   "cell_type": "code",
   "execution_count": 3,
   "id": "e2e6e062",
   "metadata": {},
   "outputs": [
    {
     "data": {
      "text/plain": [
       "array([[0.42474149, 0.35630014, 0.19823845, 0.07465194],\n",
       "       [0.59652731, 0.53608019, 0.43549175, 0.57622032],\n",
       "       [0.1582038 , 0.29669173, 0.79024675, 0.77664473],\n",
       "       [0.63978449, 0.43361373, 0.83626797, 0.61882403],\n",
       "       [0.68404728, 0.48540934, 0.95497535, 0.19972908],\n",
       "       [0.5075166 , 0.20845393, 0.33339688, 0.83183127],\n",
       "       [0.16955809, 0.08786892, 0.15466195, 0.55607514],\n",
       "       [0.99293957, 0.19247509, 0.51819953, 0.56672228]])"
      ]
     },
     "execution_count": 3,
     "metadata": {},
     "output_type": "execute_result"
    }
   ],
   "source": [
    "import numpy as np\n",
    "# 난수 발생\n",
    "ran_data = np.random.rand(8,4)\n",
    "ran_data\n"
   ]
  },
  {
   "cell_type": "code",
   "execution_count": 4,
   "id": "7254856a",
   "metadata": {},
   "outputs": [
    {
     "data": {
      "text/plain": [
       "array([ True, False,  True, False, False,  True,  True, False])"
      ]
     },
     "execution_count": 4,
     "metadata": {},
     "output_type": "execute_result"
    }
   ],
   "source": [
    "mask = np.array([True,False,True,False,False,True,True,False])\n",
    "mask"
   ]
  },
  {
   "cell_type": "code",
   "execution_count": 5,
   "id": "b75d4224",
   "metadata": {},
   "outputs": [
    {
     "data": {
      "text/plain": [
       "array([[0.42474149, 0.35630014, 0.19823845, 0.07465194],\n",
       "       [0.1582038 , 0.29669173, 0.79024675, 0.77664473],\n",
       "       [0.5075166 , 0.20845393, 0.33339688, 0.83183127],\n",
       "       [0.16955809, 0.08786892, 0.15466195, 0.55607514]])"
      ]
     },
     "execution_count": 5,
     "metadata": {},
     "output_type": "execute_result"
    }
   ],
   "source": [
    "ran_data[mask]"
   ]
  },
  {
   "cell_type": "code",
   "execution_count": 6,
   "id": "fe110113",
   "metadata": {},
   "outputs": [
    {
     "data": {
      "text/plain": [
       "array(['apple', 'banana', 'apple', 'kiwi', 'orange', 'apple', 'apple',\n",
       "       'melon'], dtype='<U6')"
      ]
     },
     "execution_count": 6,
     "metadata": {},
     "output_type": "execute_result"
    }
   ],
   "source": [
    "fruit = np.array(['apple', 'banana','apple', 'kiwi', 'orange', 'apple', 'apple', 'melon'])\n",
    "fruit"
   ]
  },
  {
   "cell_type": "code",
   "execution_count": 7,
   "id": "5b1329f3",
   "metadata": {},
   "outputs": [
    {
     "data": {
      "text/plain": [
       "array([ True, False,  True, False, False,  True,  True, False])"
      ]
     },
     "execution_count": 7,
     "metadata": {},
     "output_type": "execute_result"
    }
   ],
   "source": [
    "fruit_mask = ( fruit == 'apple')\n",
    "fruit_mask"
   ]
  },
  {
   "cell_type": "code",
   "execution_count": 8,
   "id": "e0abeb0e",
   "metadata": {},
   "outputs": [
    {
     "data": {
      "text/plain": [
       "array([[0.42474149, 0.35630014, 0.19823845, 0.07465194],\n",
       "       [0.1582038 , 0.29669173, 0.79024675, 0.77664473],\n",
       "       [0.5075166 , 0.20845393, 0.33339688, 0.83183127],\n",
       "       [0.16955809, 0.08786892, 0.15466195, 0.55607514]])"
      ]
     },
     "execution_count": 8,
     "metadata": {},
     "output_type": "execute_result"
    }
   ],
   "source": [
    "ran_data[fruit_mask]"
   ]
  },
  {
   "cell_type": "code",
   "execution_count": 10,
   "id": "81a57b7b",
   "metadata": {},
   "outputs": [
    {
     "data": {
      "text/plain": [
       "array([[0.35630014, 0.19823845],\n",
       "       [0.29669173, 0.79024675],\n",
       "       [0.48540934, 0.95497535],\n",
       "       [0.20845393, 0.33339688],\n",
       "       [0.08786892, 0.15466195]])"
      ]
     },
     "execution_count": 10,
     "metadata": {},
     "output_type": "execute_result"
    }
   ],
   "source": [
    "ran_data[(fruit == 'apple') | (fruit == 'orange'),1:-1] # ran_data [행,열]"
   ]
  },
  {
   "cell_type": "markdown",
   "id": "3e768f72",
   "metadata": {},
   "source": [
    "## 인덱스와 마스크의 응용"
   ]
  },
  {
   "cell_type": "code",
   "execution_count": 30,
   "id": "fe9af53c",
   "metadata": {},
   "outputs": [
    {
     "data": {
      "text/plain": [
       "array([False, False,  True,  True,  True, False, False,  True])"
      ]
     },
     "execution_count": 30,
     "metadata": {},
     "output_type": "execute_result"
    }
   ],
   "source": [
    "ran_data[:,0] > 0"
   ]
  },
  {
   "cell_type": "code",
   "execution_count": 31,
   "id": "34a0fc85",
   "metadata": {},
   "outputs": [
    {
     "data": {
      "text/plain": [
       "array([1.52338002, 0.56841173, 1.48479825, 0.0472748 , 0.89554401,\n",
       "       1.03181096, 0.40603421, 2.04825109, 1.64156327, 0.41446306,\n",
       "       1.36649528, 1.84184625, 0.21090229, 0.09102871, 1.76516235,\n",
       "       0.90448078, 1.0191247 , 0.1352295 , 0.4699508 , 0.08636828,\n",
       "       0.7879186 , 0.30455091, 0.53760887, 0.88900879])"
      ]
     },
     "execution_count": 31,
     "metadata": {},
     "output_type": "execute_result"
    }
   ],
   "source": [
    "ran_data[ran_data[:,:] > 0]"
   ]
  },
  {
   "cell_type": "code",
   "execution_count": 42,
   "id": "8c5047a0",
   "metadata": {},
   "outputs": [
    {
     "name": "stdout",
     "output_type": "stream",
     "text": [
      "원본 데이터:\n",
      " [[-0.58006643 -0.02319728 -0.03157435  0.58753531 -0.99167641  2.15228246]\n",
      " [-0.73577306  0.03243273 -0.51929168 -0.44161097  0.54050596 -0.91169575]\n",
      " [ 0.92803577  1.20754229 -0.40687514 -2.01076716  0.38296131  0.38944797]\n",
      " [-0.03084979 -0.26332182 -0.49026573 -1.22356041 -0.67102793  0.57013874]\n",
      " [-1.09238579 -1.1029634  -0.65986587  0.23830226 -0.55950328  1.04138065]\n",
      " [ 1.54566149  1.12504029 -0.50342678  1.45120795  0.97741655 -0.65906609]\n",
      " [ 0.53071793 -0.51939155 -0.68847499 -0.50400184  0.24016443  0.0236934 ]\n",
      " [-0.40897998  1.63375874 -1.66873722 -0.90504235  0.86272109  0.33544444]]\n",
      "\n",
      "조건에 맞는 행의 2,3번째 열 값:\n",
      " [[-0.02319728 -0.03157435]\n",
      " [-0.26332182 -0.49026573]\n",
      " [-1.1029634  -0.65986587]]\n"
     ]
    }
   ],
   "source": [
    "# ran_data에서 # 5번째 열의 값이 0보다 작은 행의 2,3번째 열의 값만 추출하라.\n",
    "\n",
    "import numpy as np\n",
    "ran_data = np.random.randn(8, 6)\n",
    "\n",
    "# 조건: 5번째 열(index 4)이 0보다 작은 행\n",
    "mask = ran_data[:, 4] < 0\n",
    "\n",
    "# 해당 행의 2,3번째 열(index 1,2) 값만 추출\n",
    "selected_values = ran_data[mask, 1:3]\n",
    "\n",
    "print(\"원본 데이터:\\n\", ran_data)\n",
    "print(\"\\n조건에 맞는 행의 2,3번째 열 값:\\n\", selected_values)\n"
   ]
  },
  {
   "cell_type": "code",
   "execution_count": 50,
   "id": "7e60d41e",
   "metadata": {},
   "outputs": [
    {
     "ename": "SyntaxError",
     "evalue": "invalid syntax (1215518198.py, line 2)",
     "output_type": "error",
     "traceback": [
      "  \u001b[36mCell\u001b[39m\u001b[36m \u001b[39m\u001b[32mIn[50]\u001b[39m\u001b[32m, line 2\u001b[39m\n\u001b[31m    \u001b[39m\u001b[31mran_data = [ran_data[:0] < 0,2:4] = np.nan # np.nan\u001b[39m\n                                  ^\n\u001b[31mSyntaxError\u001b[39m\u001b[31m:\u001b[39m invalid syntax\n"
     ]
    }
   ],
   "source": [
    "ran_data = np.random.randn(8,4)\n",
    "ran_data = [ran_data[:0] < 0,2:4] = np.nan # np.nan\n",
    "ran_data"
   ]
  },
  {
   "cell_type": "code",
   "execution_count": 51,
   "id": "648eb855",
   "metadata": {},
   "outputs": [
    {
     "data": {
      "text/plain": [
       "array([[-0.58006643, -0.02319728, -0.03157435,  0.58753531, -0.99167641,\n",
       "         2.15228246],\n",
       "       [-0.73577306,  0.03243273, -0.51929168, -0.44161097,  0.54050596,\n",
       "        -0.91169575],\n",
       "       [ 0.92803577,  1.20754229, -0.40687514, -2.01076716,  0.38296131,\n",
       "         0.38944797],\n",
       "       [-0.03084979, -0.26332182, -0.49026573, -1.22356041, -0.67102793,\n",
       "         0.57013874],\n",
       "       [-1.09238579, -1.1029634 , -0.65986587,  0.23830226, -0.55950328,\n",
       "         1.04138065],\n",
       "       [ 1.54566149,  1.12504029, -0.50342678,  1.45120795,  0.97741655,\n",
       "        -0.65906609],\n",
       "       [ 0.53071793, -0.51939155, -0.68847499, -0.50400184,  0.24016443,\n",
       "         0.0236934 ],\n",
       "       [-0.40897998,  1.63375874, -1.66873722, -0.90504235,  0.86272109,\n",
       "         0.33544444]])"
      ]
     },
     "execution_count": 51,
     "metadata": {},
     "output_type": "execute_result"
    }
   ],
   "source": [
    "ran_data[~np.isnan(ran_data). any(axis=1)]\n",
    "ran_data\n"
   ]
  },
  {
   "cell_type": "code",
   "execution_count": 52,
   "id": "651d7c16",
   "metadata": {},
   "outputs": [
    {
     "ename": "NameError",
     "evalue": "name 'fix_data' is not defined",
     "output_type": "error",
     "traceback": [
      "\u001b[31m---------------------------------------------------------------------------\u001b[39m",
      "\u001b[31mNameError\u001b[39m                                 Traceback (most recent call last)",
      "\u001b[36mCell\u001b[39m\u001b[36m \u001b[39m\u001b[32mIn[52]\u001b[39m\u001b[32m, line 1\u001b[39m\n\u001b[32m----> \u001b[39m\u001b[32m1\u001b[39m \u001b[43mfix_data\u001b[49m[~np.isnan(ran_data). \u001b[38;5;28many\u001b[39m(axis=\u001b[32m1\u001b[39m)]\n\u001b[32m      2\u001b[39m fix_data\n",
      "\u001b[31mNameError\u001b[39m: name 'fix_data' is not defined"
     ]
    }
   ],
   "source": [
    "fix_data[~np.isnan(ran_data). any(axis=1)]\n",
    "fix_data\n"
   ]
  },
  {
   "cell_type": "code",
   "execution_count": 53,
   "id": "f952917a",
   "metadata": {},
   "outputs": [
    {
     "data": {
      "text/plain": [
       "array([[-1., -1., -1.,  1., -1.,  1.],\n",
       "       [-1.,  1., -1., -1.,  1., -1.],\n",
       "       [ 1.,  1., -1., -1.,  1.,  1.],\n",
       "       [-1., -1., -1., -1., -1.,  1.],\n",
       "       [-1., -1., -1.,  1., -1.,  1.],\n",
       "       [ 1.,  1., -1.,  1.,  1., -1.],\n",
       "       [ 1., -1., -1., -1.,  1.,  1.],\n",
       "       [-1.,  1., -1., -1.,  1.,  1.]])"
      ]
     },
     "execution_count": 53,
     "metadata": {},
     "output_type": "execute_result"
    }
   ],
   "source": [
    "np.sign(ran_data)"
   ]
  },
  {
   "cell_type": "code",
   "execution_count": null,
   "id": "39c80958",
   "metadata": {},
   "outputs": [
    {
     "data": {
      "text/plain": [
       "array([[ 0.83642624,  0.99973096,  0.99950157,  0.83230941,  0.54728757,\n",
       "        -0.54926643],\n",
       "       [ 0.74131213,  0.99947411,  0.86817091,  0.90406432,  0.85744844,\n",
       "         0.61240606],\n",
       "       [ 0.59940739,  0.3553178 ,  0.91836194, -0.42591308,  0.92756216,\n",
       "         0.92511879],\n",
       "       [ 0.99952418,  0.96553067,  0.88220777,  0.3403    ,  0.78318292,\n",
       "         0.8418261 ],\n",
       "       [ 0.46036875,  0.45095313,  0.79007446,  0.97174013,  0.84751886,\n",
       "         0.50502909],\n",
       "       [ 0.02513219,  0.43114016,  0.87593453,  0.11930354,  0.55916624,\n",
       "         0.79056448],\n",
       "       [ 0.86244391,  0.86812134,  0.77221584,  0.87565696,  0.97129888,\n",
       "         0.99971932],\n",
       "       [ 0.91752694, -0.06292082, -0.09778439,  0.61765228,  0.6503729 ,\n",
       "         0.9442641 ]])"
      ]
     },
     "execution_count": 54,
     "metadata": {},
     "output_type": "execute_result"
    }
   ],
   "source": [
    "# 삼각함수 값을 계산하기(cos, cosh, sin, sinh, tan, tanh)\n",
    "np.cos(ran_data)"
   ]
  },
  {
   "cell_type": "code",
   "execution_count": 55,
   "id": "c539de8e",
   "metadata": {},
   "outputs": [
    {
     "data": {
      "text/plain": [
       "(array([[-0.7518965 , -1.09235967,  0.19425123, -0.05097728],\n",
       "        [-0.52084556, -0.51854149, -0.80990122,  1.20364918],\n",
       "        [ 1.5814422 ,  0.25463986, -0.07930324, -0.42937974],\n",
       "        [ 0.42003631,  2.27250887, -1.30572387, -0.41567174],\n",
       "        [ 0.26494214,  1.24958849,  0.3843121 ,  0.90409841],\n",
       "        [-2.59697807,  0.58467607, -1.13859989, -1.8813794 ],\n",
       "        [-0.06299072,  0.8816878 ,  0.06339213,  0.00607717],\n",
       "        [-0.3788946 ,  0.81926452, -1.30327613, -2.60025542]]),\n",
       " array([[ 1.26586885,  0.2908186 ,  0.90249477, -1.23647837],\n",
       "        [-0.54097193, -2.34789356,  0.69898667, -0.21868747],\n",
       "        [ 0.61193676, -0.15818585, -1.03268254, -1.60805084],\n",
       "        [-0.11296835, -1.31832079,  1.1104013 , -0.83307873],\n",
       "        [-0.93534639,  0.23588687, -1.66509683,  0.57406411],\n",
       "        [-0.48370208, -1.50812683, -0.67383851,  1.64926565],\n",
       "        [-0.82697897,  0.90237936, -0.34493705,  0.03855306],\n",
       "        [ 1.40474593,  0.34737052,  0.15017422, -0.56566115]]))"
      ]
     },
     "execution_count": 55,
     "metadata": {},
     "output_type": "execute_result"
    }
   ],
   "source": [
    "# 두 개의 array에 동일한 위치의 요소끼리 비교하기\n",
    "data1 = np.random.randn(8,4)\n",
    "data2 = np.random.randn(8,4)\n",
    "data1, data2"
   ]
  },
  {
   "cell_type": "code",
   "execution_count": 57,
   "id": "8adac24a",
   "metadata": {},
   "outputs": [
    {
     "data": {
      "text/plain": [
       "array([[ 1.26586885,  0.2908186 ,  0.90249477, -0.05097728],\n",
       "       [-0.52084556, -0.51854149,  0.69898667,  1.20364918],\n",
       "       [ 1.5814422 ,  0.25463986, -0.07930324, -0.42937974],\n",
       "       [ 0.42003631,  2.27250887,  1.1104013 , -0.41567174],\n",
       "       [ 0.26494214,  1.24958849,  0.3843121 ,  0.90409841],\n",
       "       [-0.48370208,  0.58467607, -0.67383851,  1.64926565],\n",
       "       [-0.06299072,  0.90237936,  0.06339213,  0.03855306],\n",
       "       [ 1.40474593,  0.81926452,  0.15017422, -0.56566115]])"
      ]
     },
     "execution_count": 57,
     "metadata": {},
     "output_type": "execute_result"
    }
   ],
   "source": [
    "np.maximum(data1,data2)"
   ]
  },
  {
   "cell_type": "code",
   "execution_count": 60,
   "id": "0495152f",
   "metadata": {},
   "outputs": [
    {
     "data": {
      "text/plain": [
       "array([[-0.7518965 , -1.09235967,  0.19425123, -1.23647837],\n",
       "       [-0.54097193, -2.34789356, -0.80990122, -0.21868747],\n",
       "       [ 0.61193676, -0.15818585, -1.03268254, -1.60805084],\n",
       "       [-0.11296835, -1.31832079, -1.30572387, -0.83307873],\n",
       "       [-0.93534639,  0.23588687, -1.66509683,  0.57406411],\n",
       "       [-2.59697807, -1.50812683, -1.13859989, -1.8813794 ],\n",
       "       [-0.82697897,  0.8816878 , -0.34493705,  0.00607717],\n",
       "       [-0.3788946 ,  0.34737052, -1.30327613, -2.60025542]])"
      ]
     },
     "execution_count": 60,
     "metadata": {},
     "output_type": "execute_result"
    }
   ],
   "source": [
    "np.minimum(data1,data2)"
   ]
  },
  {
   "cell_type": "code",
   "execution_count": 61,
   "id": "65a691a7",
   "metadata": {},
   "outputs": [
    {
     "data": {
      "text/plain": [
       "array([[0.        , 0.        , 0.19425123, 0.        ],\n",
       "       [0.        , 0.        , 0.        , 1.20364918],\n",
       "       [1.5814422 , 0.25463986, 0.        , 0.        ],\n",
       "       [0.42003631, 2.27250887, 0.        , 0.        ],\n",
       "       [0.26494214, 1.24958849, 0.3843121 , 0.90409841],\n",
       "       [0.        , 0.58467607, 0.        , 0.        ],\n",
       "       [0.        , 0.8816878 , 0.06339213, 0.00607717],\n",
       "       [0.        , 0.81926452, 0.        , 0.        ]])"
      ]
     },
     "execution_count": 61,
     "metadata": {},
     "output_type": "execute_result"
    }
   ],
   "source": [
    "np.maximum(data1, 0) # reLu(x) 같다.\n"
   ]
  },
  {
   "cell_type": "code",
   "execution_count": 63,
   "id": "a715d706",
   "metadata": {},
   "outputs": [
    {
     "data": {
      "text/plain": [
       "array([[1.26586885, 0.5       , 0.90249477, 0.5       ],\n",
       "       [0.5       , 0.5       , 0.69898667, 0.5       ],\n",
       "       [0.61193676, 0.5       , 0.5       , 0.5       ],\n",
       "       [0.5       , 0.5       , 1.1104013 , 0.5       ],\n",
       "       [0.5       , 0.5       , 0.5       , 0.57406411],\n",
       "       [0.5       , 0.5       , 0.5       , 1.64926565],\n",
       "       [0.5       , 0.90237936, 0.5       , 0.5       ],\n",
       "       [1.40474593, 0.5       , 0.5       , 0.5       ]])"
      ]
     },
     "execution_count": 63,
     "metadata": {},
     "output_type": "execute_result"
    }
   ],
   "source": [
    "np.minimum(np.maximum(data2,0.5),1.7)"
   ]
  },
  {
   "cell_type": "markdown",
   "id": "e39706ec",
   "metadata": {},
   "source": [
    "## 통계함수"
   ]
  },
  {
   "cell_type": "code",
   "execution_count": 104,
   "id": "4ac24562",
   "metadata": {},
   "outputs": [
    {
     "data": {
      "text/plain": [
       "array([[ 1.13257798, -0.34133498, -1.28416748,  1.02549034],\n",
       "       [-0.13827764, -0.00589804,  0.1374056 , -0.92528304],\n",
       "       [ 1.7482227 ,  0.06961901, -0.59151631,  0.30202178],\n",
       "       [ 0.26117136,  0.31666585,  0.19654439,  0.53773203]])"
      ]
     },
     "execution_count": 104,
     "metadata": {},
     "output_type": "execute_result"
    }
   ],
   "source": [
    "data = np.random.randn(4,4)\n",
    "data"
   ]
  },
  {
   "cell_type": "code",
   "execution_count": 105,
   "id": "35b7b284",
   "metadata": {},
   "outputs": [
    {
     "data": {
      "text/plain": [
       "array([ 3.0036944 ,  0.03905184, -1.54173381,  0.93996111])"
      ]
     },
     "execution_count": 105,
     "metadata": {},
     "output_type": "execute_result"
    }
   ],
   "source": [
    "np.sum(data, axis=0)"
   ]
  },
  {
   "cell_type": "code",
   "execution_count": 106,
   "id": "57ba2380",
   "metadata": {},
   "outputs": [
    {
     "data": {
      "text/plain": [
       "array([ 0.53256586, -0.93205313,  1.52834719,  1.31211363])"
      ]
     },
     "execution_count": 106,
     "metadata": {},
     "output_type": "execute_result"
    }
   ],
   "source": [
    "np.sum(data, axis=1)"
   ]
  },
  {
   "cell_type": "code",
   "execution_count": 108,
   "id": "16aedcf9",
   "metadata": {},
   "outputs": [
    {
     "data": {
      "text/plain": [
       "array([-1.62550246,  0.13150755, -0.5218973 ,  0.51321024])"
      ]
     },
     "execution_count": 108,
     "metadata": {},
     "output_type": "execute_result"
    }
   ],
   "source": [
    "np.sum(data[:,1:3], axis=1)"
   ]
  },
  {
   "cell_type": "code",
   "execution_count": 109,
   "id": "43a90fcc",
   "metadata": {},
   "outputs": [
    {
     "data": {
      "text/plain": [
       "array([[ 1.02157185, -0.38011545,  0.54431081,  0.39298116, -1.35271342],\n",
       "       [-0.79610225,  2.06612149,  0.63269727, -1.48709871,  2.19499326],\n",
       "       [ 0.27508139,  1.83063057, -0.77837012,  0.35064661,  0.63123317]])"
      ]
     },
     "execution_count": 109,
     "metadata": {},
     "output_type": "execute_result"
    }
   ],
   "source": [
    "data2 = np.random.randn(3,5)\n",
    "data2"
   ]
  },
  {
   "cell_type": "code",
   "execution_count": null,
   "id": "8fb3d946",
   "metadata": {},
   "outputs": [
    {
     "data": {
      "text/plain": [
       "np.float64(0.34305784209705836)"
      ]
     },
     "execution_count": 111,
     "metadata": {},
     "output_type": "execute_result"
    }
   ],
   "source": [
    "# 요소의 평균구하기\n",
    "np.mean(data2)"
   ]
  },
  {
   "cell_type": "code",
   "execution_count": 112,
   "id": "5a101f63",
   "metadata": {},
   "outputs": [
    {
     "data": {
      "text/plain": [
       "array([ 0.16685033,  1.1722122 ,  0.13287932, -0.24782365,  0.491171  ])"
      ]
     },
     "execution_count": 112,
     "metadata": {},
     "output_type": "execute_result"
    }
   ],
   "source": [
    "np.mean(data2, axis=0)"
   ]
  },
  {
   "cell_type": "code",
   "execution_count": 113,
   "id": "b02ea862",
   "metadata": {},
   "outputs": [
    {
     "data": {
      "text/plain": [
       "array([0.04520699, 0.52212221, 0.46184432])"
      ]
     },
     "execution_count": 113,
     "metadata": {},
     "output_type": "execute_result"
    }
   ],
   "source": [
    "np.mean(data2, axis=1)\n"
   ]
  },
  {
   "cell_type": "code",
   "execution_count": 114,
   "id": "382378b4",
   "metadata": {},
   "outputs": [
    {
     "data": {
      "text/plain": [
       "np.float64(-1.4870987060594807)"
      ]
     },
     "execution_count": 114,
     "metadata": {},
     "output_type": "execute_result"
    }
   ],
   "source": [
    "np.min(data2)"
   ]
  },
  {
   "cell_type": "code",
   "execution_count": 115,
   "id": "c8f073bd",
   "metadata": {},
   "outputs": [
    {
     "data": {
      "text/plain": [
       "array([-1.35271342, -1.48709871, -0.77837012])"
      ]
     },
     "execution_count": 115,
     "metadata": {},
     "output_type": "execute_result"
    }
   ],
   "source": [
    "#요소의 가장 작은 값 구하기, 반대는, max\n",
    "\n",
    "np.min(data2, axis=1)"
   ]
  },
  {
   "cell_type": "code",
   "execution_count": 127,
   "id": "e685631d",
   "metadata": {},
   "outputs": [
    {
     "data": {
      "text/plain": [
       "np.float64(1.113249167377242)"
      ]
     },
     "execution_count": 127,
     "metadata": {},
     "output_type": "execute_result"
    }
   ],
   "source": [
    "# 표준편차 계산\n",
    "np.std(data2)"
   ]
  },
  {
   "cell_type": "code",
   "execution_count": 128,
   "id": "fe954f5a",
   "metadata": {},
   "outputs": [
    {
     "data": {
      "text/plain": [
       "np.float64(1.2393237086661224)"
      ]
     },
     "execution_count": 128,
     "metadata": {},
     "output_type": "execute_result"
    }
   ],
   "source": [
    "# 분산 계산\n",
    "np.var(data2)"
   ]
  },
  {
   "cell_type": "code",
   "execution_count": 129,
   "id": "c9fb42c8",
   "metadata": {},
   "outputs": [
    {
     "data": {
      "text/plain": [
       "array([[-0.77837012,  0.27508139,  0.35064661,  0.63123317,  1.83063057],\n",
       "       [-1.48709871, -0.79610225,  0.63269727,  2.06612149,  2.19499326],\n",
       "       [-1.35271342, -0.38011545,  0.39298116,  0.54431081,  1.02157185]])"
      ]
     },
     "execution_count": 129,
     "metadata": {},
     "output_type": "execute_result"
    }
   ],
   "source": [
    "np.sort(data2)[::-1]"
   ]
  },
  {
   "cell_type": "code",
   "execution_count": 130,
   "id": "989abbc4",
   "metadata": {},
   "outputs": [
    {
     "data": {
      "text/plain": [
       "array([[-0.79610225, -0.38011545, -0.77837012, -1.48709871, -1.35271342],\n",
       "       [ 0.27508139,  1.83063057,  0.54431081,  0.35064661,  0.63123317],\n",
       "       [ 1.02157185,  2.06612149,  0.63269727,  0.39298116,  2.19499326]])"
      ]
     },
     "execution_count": 130,
     "metadata": {},
     "output_type": "execute_result"
    }
   ],
   "source": [
    "np.sort(data2, axis=0)"
   ]
  },
  {
   "cell_type": "code",
   "execution_count": null,
   "id": "198d303e",
   "metadata": {},
   "outputs": [],
   "source": [
    "# np를 이용하여 다음을 구하라.\n",
    "# 각 학생의 평균 점수를 구하라.\n",
    "# 성적이 가장 안정적인 학생을 찾으시오. (표준편차가 낮은 학생)\n",
    "# 80점 이상의 과목수가 가장 많은 학생의 점수를 나열하시오."
   ]
  },
  {
   "cell_type": "markdown",
   "id": "873d8f91",
   "metadata": {},
   "source": [
    "## np.mean( , axis=1) : 평균 점수 계산 (각 행 평균계산)"
   ]
  },
  {
   "cell_type": "code",
   "execution_count": 155,
   "id": "05a142d7",
   "metadata": {},
   "outputs": [
    {
     "name": "stdout",
     "output_type": "stream",
     "text": [
      "학생1 평균 점수 : 88.75\n",
      "학생2 평균 점수 : 82.5\n",
      "학생3 평균 점수 : 90.25\n",
      "학생4 평균 점수 : 73.75\n",
      "학생5 평균 점수 : 86.5\n"
     ]
    }
   ],
   "source": [
    "import numpy as np\n",
    "\n",
    "# 학생별 성적\n",
    "scores = np.array([\n",
    "    [85, 90, 88, 92], [78, 81, 85, 86], [92, 88, 91, 90], [70, 75, 72, 78], [88, 85, 84, 89]])\n",
    "\n",
    "abc = ['학생1', '학생2', '학생3', '학생4', '학생5']\n",
    "\n",
    "averages = np.mean(scores, axis=1)    #평균점수계산\n",
    "for i in range(len(abc)):\n",
    "    print(abc[i], \"평균 점수 :\", round(averages[i], 2))"
   ]
  },
  {
   "cell_type": "markdown",
   "id": "e031740e",
   "metadata": {},
   "source": [
    "## np.std( , axis=1) 표준편차 계산"
   ]
  },
  {
   "cell_type": "code",
   "execution_count": null,
   "id": "4217ecc5",
   "metadata": {},
   "outputs": [
    {
     "name": "stdout",
     "output_type": "stream",
     "text": [
      "학생3 (표준편차: 1.48)\n"
     ]
    }
   ],
   "source": [
    "std_data0 = np.std(scores, axis=1)    # 표준편차계산\n",
    "min_std_index = np.argmin(std_data0)\n",
    "\n",
    "print(f\"{abc[min_std_index]} (표준편차: {std_data0[min_std_index]:.2f})\")"
   ]
  },
  {
   "cell_type": "markdown",
   "id": "63992c3b",
   "metadata": {},
   "source": [
    "## np.sum(scores >= 90, axis=1) 90점 이상 과목 수 계산"
   ]
  },
  {
   "cell_type": "code",
   "execution_count": null,
   "id": "c2ffc1fd",
   "metadata": {},
   "outputs": [
    {
     "name": "stdout",
     "output_type": "stream",
     "text": [
      "\n",
      "90점 이상 과목 수가 가장 많은 학생: 학생3\n",
      "학생3의 점수: [92 88 91 90]\n"
     ]
    }
   ],
   "source": [
    "counts90 = np.sum(scores >= 90, axis=1)   # 90점 이상 과목 수 계산\n",
    "index90 = np.argmax(counts90)\n",
    "\n",
    "print(f\"\\n90점 이상 과목 수가 가장 많은 학생: {abc[index90]}\")\n",
    "print(f\"{abc[index90]}의 점수: {scores[index90]}\")"
   ]
  },
  {
   "cell_type": "markdown",
   "id": "cb19b6ee",
   "metadata": {},
   "source": []
  },
  {
   "cell_type": "code",
   "execution_count": null,
   "id": "c28ca82f",
   "metadata": {},
   "outputs": [],
   "source": []
  },
  {
   "cell_type": "code",
   "execution_count": null,
   "id": "7f37e6f5",
   "metadata": {},
   "outputs": [],
   "source": []
  },
  {
   "cell_type": "code",
   "execution_count": null,
   "id": "11fff378",
   "metadata": {},
   "outputs": [],
   "source": []
  },
  {
   "cell_type": "code",
   "execution_count": null,
   "id": "c8bb6f27",
   "metadata": {},
   "outputs": [],
   "source": []
  },
  {
   "cell_type": "code",
   "execution_count": null,
   "id": "8e896eb0",
   "metadata": {},
   "outputs": [],
   "source": []
  },
  {
   "cell_type": "code",
   "execution_count": null,
   "id": "83581f51",
   "metadata": {},
   "outputs": [],
   "source": []
  },
  {
   "cell_type": "code",
   "execution_count": null,
   "id": "1b5d3075",
   "metadata": {},
   "outputs": [],
   "source": []
  },
  {
   "cell_type": "code",
   "execution_count": null,
   "id": "475746f9",
   "metadata": {},
   "outputs": [],
   "source": []
  },
  {
   "cell_type": "code",
   "execution_count": null,
   "id": "668e3961",
   "metadata": {},
   "outputs": [],
   "source": []
  },
  {
   "cell_type": "code",
   "execution_count": null,
   "id": "04ab4be5",
   "metadata": {},
   "outputs": [],
   "source": []
  },
  {
   "cell_type": "code",
   "execution_count": null,
   "id": "dc9fcd15",
   "metadata": {},
   "outputs": [],
   "source": []
  },
  {
   "cell_type": "code",
   "execution_count": null,
   "id": "8422ed31",
   "metadata": {},
   "outputs": [],
   "source": []
  },
  {
   "cell_type": "code",
   "execution_count": null,
   "id": "626ca3a8",
   "metadata": {},
   "outputs": [],
   "source": []
  },
  {
   "cell_type": "code",
   "execution_count": null,
   "id": "a18ec13b",
   "metadata": {},
   "outputs": [],
   "source": []
  }
 ],
 "metadata": {
  "kernelspec": {
   "display_name": "Python 3",
   "language": "python",
   "name": "python3"
  },
  "language_info": {
   "codemirror_mode": {
    "name": "ipython",
    "version": 3
   },
   "file_extension": ".py",
   "mimetype": "text/x-python",
   "name": "python",
   "nbconvert_exporter": "python",
   "pygments_lexer": "ipython3",
   "version": "3.13.3"
  }
 },
 "nbformat": 4,
 "nbformat_minor": 5
}
