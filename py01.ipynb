{
 "cells": [
  {
   "cell_type": "code",
   "execution_count": 3,
   "id": "95f8a2e3-8959-4ccc-97ed-d91a1ca90bf1",
   "metadata": {},
   "outputs": [
    {
     "name": "stdout",
     "output_type": "stream",
     "text": [
      "Python 3.13.3\n"
     ]
    }
   ],
   "source": [
    "#python start\n",
    "!python -V\n"
   ]
  },
  {
   "cell_type": "code",
   "execution_count": 4,
   "id": "bece921f",
   "metadata": {},
   "outputs": [
    {
     "name": "stdout",
     "output_type": "stream",
     "text": [
      "pip 25.1.1 from C:\\Users\\user\\AppData\\Local\\Programs\\Python\\Python313\\Lib\\site-packages\\pip (python 3.13)\n",
      "\n",
      "Note: you may need to restart the kernel to use updated packages.\n"
     ]
    }
   ],
   "source": [
    "pip -V"
   ]
  },
  {
   "cell_type": "markdown",
   "id": "011d8ae8",
   "metadata": {},
   "source": [
    "# 내장함수"
   ]
  },
  {
   "cell_type": "markdown",
   "id": "fbf912e6",
   "metadata": {},
   "source": []
  },
  {
   "cell_type": "code",
   "execution_count": null,
   "id": "99cb80d8",
   "metadata": {},
   "outputs": [
    {
     "name": "stdout",
     "output_type": "stream",
     "text": [
      "3\n",
      "1.2\n"
     ]
    }
   ],
   "source": [
    "# abs -> 절대값으로 양수변환\n",
    "print(abs(-3))\n",
    "print(abs(-1.2))"
   ]
  },
  {
   "cell_type": "code",
   "execution_count": null,
   "id": "7d968cbd",
   "metadata": {},
   "outputs": [
    {
     "name": "stdout",
     "output_type": "stream",
     "text": [
      "True\n",
      "False\n",
      "True\n"
     ]
    }
   ],
   "source": [
    "# all -> 0만 false\n",
    "print(all([1, 2, 3]))\n",
    "print(all([1, 2, 2, 4, 0, 2, 5, 6, 1]))\n",
    "print(all([])) # 빈리스트는 True로 간주"
   ]
  },
  {
   "cell_type": "code",
   "execution_count": 21,
   "id": "dcd32a6b",
   "metadata": {},
   "outputs": [
    {
     "name": "stdout",
     "output_type": "stream",
     "text": [
      "True\n",
      "False\n",
      "False\n",
      "False\n"
     ]
    }
   ],
   "source": [
    "print(any([1, 1, 1, 0, 2, 4, 6, 1, 2, 3]))\n",
    "print(any([0, 0, 0]))\n",
    "print(any([0, False, \"\"]))\n",
    "print(any([])) # 빈리스트는 True로 간주"
   ]
  },
  {
   "cell_type": "code",
   "execution_count": null,
   "id": "73398ea8",
   "metadata": {},
   "outputs": [
    {
     "name": "stdout",
     "output_type": "stream",
     "text": [
      "A\n",
      "G\n",
      "65\n",
      "71\n",
      "가\n",
      "\u001e",
      "\n",
      "\n"
     ]
    }
   ],
   "source": [
    "# 아스키코드(ASCII code) - 정의: 컴퓨터가 문자를 숫자로 표현하는 방법\n",
    "# 아스키코드는 0부터 127까지의 숫자로 구성된 문자 인코딩 체계입니다.\n",
    "\n",
    "print(chr(65)) # 65는 'A' 에 해당\n",
    "print(chr(71)) # 71는 'G' 에 해당\n",
    "print(ord('A')) # 'A'의 아스키 코드 값은 65\n",
    "print(ord('G')) # 'G'의 아스키 코드 값은 71\n",
    "print(chr(44032)) # '가'에 해당\n",
    "ox = 30 # 16진수 값을 받는 변수\n",
    "print(chr(int(hex(ox),16))) #'0'에 해당"
   ]
  },
  {
   "cell_type": "code",
   "execution_count": null,
   "id": "4e344337",
   "metadata": {},
   "outputs": [
    {
     "name": "stdout",
     "output_type": "stream",
     "text": [
      "['__add__', '__class__', '__class_getitem__', '__contains__', '__delattr__', '__delitem__', '__dir__', '__doc__', '__eq__', '__format__', '__ge__', '__getattribute__', '__getitem__', '__getstate__', '__gt__', '__hash__', '__iadd__', '__imul__', '__init__', '__init_subclass__', '__iter__', '__le__', '__len__', '__lt__', '__mul__', '__ne__', '__new__', '__reduce__', '__reduce_ex__', '__repr__', '__reversed__', '__rmul__', '__setattr__', '__setitem__', '__sizeof__', '__str__', '__subclasshook__', 'append', 'clear', 'copy', 'count', 'extend', 'index', 'insert', 'pop', 'remove', 'reverse', 'sort']\n"
     ]
    }
   ],
   "source": [
    "#dir 객체가 가지고 있는 함수를 보여줌\n",
    "print(dir([1, 2, 3])) # 리스트 객체의 메소드와 속성 "
   ]
  },
  {
   "cell_type": "code",
   "execution_count": null,
   "id": "8e47becc",
   "metadata": {},
   "outputs": [
    {
     "data": {
      "text/plain": [
       "['__add__',\n",
       " '__class__',\n",
       " '__class_getitem__',\n",
       " '__contains__',\n",
       " '__delattr__',\n",
       " '__dir__',\n",
       " '__doc__',\n",
       " '__eq__',\n",
       " '__format__',\n",
       " '__ge__',\n",
       " '__getattribute__',\n",
       " '__getitem__',\n",
       " '__getnewargs__',\n",
       " '__getstate__',\n",
       " '__gt__',\n",
       " '__hash__',\n",
       " '__init__',\n",
       " '__init_subclass__',\n",
       " '__iter__',\n",
       " '__le__',\n",
       " '__len__',\n",
       " '__lt__',\n",
       " '__mul__',\n",
       " '__ne__',\n",
       " '__new__',\n",
       " '__reduce__',\n",
       " '__reduce_ex__',\n",
       " '__repr__',\n",
       " '__rmul__',\n",
       " '__setattr__',\n",
       " '__sizeof__',\n",
       " '__str__',\n",
       " '__subclasshook__',\n",
       " 'count',\n",
       " 'index']"
      ]
     },
     "execution_count": 32,
     "metadata": {},
     "output_type": "execute_result"
    }
   ],
   "source": [
    " dir((1,2,3)) # dir 함수는 원래 가지고 있던 메소드의 기능을 볼수있다."
   ]
  },
  {
   "cell_type": "code",
   "execution_count": 33,
   "id": "c272f0f1",
   "metadata": {},
   "outputs": [
    {
     "data": {
      "text/plain": [
       "['__class__',\n",
       " '__class_getitem__',\n",
       " '__contains__',\n",
       " '__delattr__',\n",
       " '__delitem__',\n",
       " '__dir__',\n",
       " '__doc__',\n",
       " '__eq__',\n",
       " '__format__',\n",
       " '__ge__',\n",
       " '__getattribute__',\n",
       " '__getitem__',\n",
       " '__getstate__',\n",
       " '__gt__',\n",
       " '__hash__',\n",
       " '__init__',\n",
       " '__init_subclass__',\n",
       " '__ior__',\n",
       " '__iter__',\n",
       " '__le__',\n",
       " '__len__',\n",
       " '__lt__',\n",
       " '__ne__',\n",
       " '__new__',\n",
       " '__or__',\n",
       " '__reduce__',\n",
       " '__reduce_ex__',\n",
       " '__repr__',\n",
       " '__reversed__',\n",
       " '__ror__',\n",
       " '__setattr__',\n",
       " '__setitem__',\n",
       " '__sizeof__',\n",
       " '__str__',\n",
       " '__subclasshook__',\n",
       " 'clear',\n",
       " 'copy',\n",
       " 'fromkeys',\n",
       " 'get',\n",
       " 'items',\n",
       " 'keys',\n",
       " 'pop',\n",
       " 'popitem',\n",
       " 'setdefault',\n",
       " 'update',\n",
       " 'values']"
      ]
     },
     "execution_count": 33,
     "metadata": {},
     "output_type": "execute_result"
    }
   ],
   "source": [
    "# dir ((1,2,3))\n",
    "dir({'1':'a', '2':'b'})"
   ]
  },
  {
   "cell_type": "code",
   "execution_count": null,
   "id": "edeaa4a1",
   "metadata": {},
   "outputs": [
    {
     "name": "stdout",
     "output_type": "stream",
     "text": [
      "3.25\n",
      "3\n",
      "1\n",
      "(3, 1)\n"
     ]
    }
   ],
   "source": [
    "print(13 /4) # 나누기\n",
    "print(13 //4) # 몫\n",
    "print(13 % 4) # 나머지\n",
    "print(divmod(13,4)) # 몫과 나머지 전체 계산"
   ]
  },
  {
   "cell_type": "code",
   "execution_count": 40,
   "id": "3cff2c88",
   "metadata": {},
   "outputs": [
    {
     "name": "stdout",
     "output_type": "stream",
     "text": [
      "range(1, 10)\n"
     ]
    }
   ],
   "source": [
    "range (1,10)\n",
    "print(range(1,10))"
   ]
  },
  {
   "cell_type": "code",
   "execution_count": null,
   "id": "339daab1",
   "metadata": {},
   "outputs": [
    {
     "ename": "SyntaxError",
     "evalue": "unmatched ')' (2697013689.py, line 4)",
     "output_type": "error",
     "traceback": [
      "  \u001b[36mCell\u001b[39m\u001b[36m \u001b[39m\u001b[32mIn[48]\u001b[39m\u001b[32m, line 4\u001b[39m\n\u001b[31m    \u001b[39m\u001b[31mprint(i+1),\"번째\",f)\u001b[39m\n                     ^\n\u001b[31mSyntaxError\u001b[39m\u001b[31m:\u001b[39m unmatched ')'\n"
     ]
    }
   ],
   "source": [
    "fruit = ['apple', 'banana', 'cherry', 'mango', 'kiwi']\n",
    "\n",
    "for f in enumerate(fruit):\n",
    "    print(i+1), \"번째\" ,f) "
   ]
  },
  {
   "cell_type": "code",
   "execution_count": 54,
   "id": "702d47e3",
   "metadata": {},
   "outputs": [
    {
     "name": "stdout",
     "output_type": "stream",
     "text": [
      "1 apple cat\n",
      "2 banana dog\n",
      "3 cherry rabbit\n",
      "4 mango hamster\n",
      "5 kiwi parrot\n"
     ]
    }
   ],
   "source": [
    "fruit = ['apple', 'banana', 'cherry', 'mango', 'kiwi']\n",
    "animals = [ 'cat', 'dog', 'rabbit', 'hamster', 'parrot']\n",
    "for i, (f, a) in enumerate(zip(fruit,animals), start=1):\n",
    "    print(i,f,a)  # enumerate는 인덱스와 값을 동시에 가져옴\n",
    "    # i는 인덱스, f는 값"
   ]
  },
  {
   "cell_type": "code",
   "execution_count": null,
   "id": "7a2f1c30",
   "metadata": {},
   "outputs": [
    {
     "name": "stdout",
     "output_type": "stream",
     "text": [
      "['좋아'] 1\n",
      "[] 0\n",
      "긍정적인 기분이네요!\n",
      "긍정적인 기분이네요!\n"
     ]
    }
   ],
   "source": [
    "positive_words =[\"좋아\",\"행복\", \"사랑\", \"기쁨\", \"감사\"]\n",
    "negative_words =[\"싫어\",\"슬픔\", \"미움\", \"화남\", \"실망\"]\n",
    "text = input(\"당신의 기분을 한 문장으로 표현해주세요.\")\n",
    "#방법 1\n",
    "#for v in positive_words:\n",
    " #   if v in text:\n",
    "  #      print(\"긍정적인 기분이네요!\")\n",
    "   #     break\n",
    "#for v in negative_words:\n",
    " #   if v in text:\n",
    "  #      print(\"부정적인 기분이네요!\")\n",
    "   #     break\n",
    "\n",
    "# 방법 2\n",
    "#if any(v in text for v in positive_words):\n",
    " #   print(\"긍정적인 기분이네요!\")\n",
    "#elif any(v in text for v in negative_words):\n",
    " #   print(\"부정적인 기분이네요!\")\n",
    "#else:\n",
    " #   print(\"기분이 보통이네요.\")\n",
    "\n",
    " #방법3\n",
    "pos = [v for v in positive_words if v in text]\n",
    "print(pos, len(pos))\n",
    "neg = [v for v in negative_words if v in text]\n",
    "print(neg, len(neg))\n",
    "if len(pos) > len(neg):\n",
    "    print(\"긍정적인 기분이네요!\")\n",
    "elif len(pos) < len(neg):\n",
    "    print(\"부정적인 기분이네요!\")\n",
    "else:\n",
    "    print(\"기분이 보통이네요.\")\n",
    "\n",
    "# 방법 4\n",
    "count_pos = sum(1 for v in positive_words if v in text)\n",
    "count_neg = sum(1 for v in negative_words if v in text) \n",
    "if count_pos > count_neg:\n",
    "    print(\"긍정적인 기분이네요!\")   \n",
    "elif count_pos < count_neg:\n",
    "    print(\"부정적인 기분이네요!\")\n",
    "else:\n",
    "    print(\"기분이 보통이네요.\")\n",
    "    "
   ]
  },
  {
   "cell_type": "code",
   "execution_count": 5,
   "id": "85c9db2c",
   "metadata": {},
   "outputs": [
    {
     "name": "stdout",
     "output_type": "stream",
     "text": [
      "['멋지다']\n"
     ]
    }
   ],
   "source": [
    "# !pip install konlpy\n",
    "from konlpy.tag import Okt\n",
    "\n",
    "#한글 형태소 분석기\n",
    "okt = Okt()\n",
    "#positive_words =[\"좋다\",\"행복\", \"멋져\", \"기쁨\", \"감사\"]\n",
    "#negative_words =[\"싫다\",\"슬픔\", \"미움\", \"화남\", \"실망\"]\n",
    "text = input(\"당신의 기분을 한 문장으로 표현해주세요.\")\n",
    "\n",
    "words = okt.morphs(text,stem=True) # 형태소 단위로 분리\n",
    "print(words)"
   ]
  },
  {
   "cell_type": "code",
   "execution_count": null,
   "id": "c2acb5e8",
   "metadata": {},
   "outputs": [
    {
     "name": "stderr",
     "output_type": "stream",
     "text": [
      "java version \"24.0.1\" 2025-04-15\n",
      "Java(TM) SE Runtime Environment (build 24.0.1+9-30)\n",
      "Java HotSpot(TM) 64-Bit Server VM (build 24.0.1+9-30, mixed mode, sharing)\n"
     ]
    }
   ],
   "source": [
    "!java -version"
   ]
  },
  {
   "cell_type": "markdown",
   "id": "f8798a2f",
   "metadata": {},
   "source": [
    "## filter 와 map"
   ]
  },
  {
   "cell_type": "code",
   "execution_count": 11,
   "id": "0fecdc42",
   "metadata": {},
   "outputs": [
    {
     "name": "stdout",
     "output_type": "stream",
     "text": [
      "[1, 3, 4, 3, 5]\n"
     ]
    }
   ],
   "source": [
    "# filter 는 true인 값만 남김\n",
    "data = [1, -2, 3, 4, -5, 0, -1, 3, -4, 5]\n",
    "\n",
    "def pos(v):\n",
    "    return v > 0 # 양수인 경우 True를 반환\n",
    "\n",
    "print(list(filter(pos, data)))\n"
   ]
  },
  {
   "cell_type": "code",
   "execution_count": 12,
   "id": "0d72c9c3",
   "metadata": {},
   "outputs": [
    {
     "name": "stdout",
     "output_type": "stream",
     "text": [
      "[1, 3, 4, 3, 5]\n"
     ]
    }
   ],
   "source": [
    "#filter 는 true인 값만 남김\n",
    "data = [1, -2, 3, 4, -5, 0, -1, 3, -4, 5]\n",
    "print(list(filter(lambda v: v > 0, data))) # 람다함수\n"
   ]
  },
  {
   "cell_type": "code",
   "execution_count": 15,
   "id": "8b0eb8b2",
   "metadata": {},
   "outputs": [
    {
     "name": "stdout",
     "output_type": "stream",
     "text": [
      "[1, 3, 5, 7, 9]\n",
      "[2, 4, 6, 8, 10]\n",
      "[11, 12, 13, 14, 15, 16, 17, 18, 19, 20]\n",
      "[10, 20, 30, 40, 50, 60, 70, 80, 90, 100]\n",
      "[110, 120, 130, 140, 150, 160, 170, 180, 190, 200]\n"
     ]
    }
   ],
   "source": [
    "lis = list(range(1, 11)) # 1부터 10까지의 숫자 리스트\n",
    "def odd(x):\n",
    "    return x % 2 == 1 # 홀수인 경우 True를 반환\n",
    "def even(x):\n",
    "    return x % 2 == 0 # 짝수인 경우 True를 반환\n",
    "def add(x):\n",
    "    return x + 10 # 10을 더한 값을 반환 \n",
    "def mul(x):\n",
    "    return x * 10 # 10을 곱한 값을 반환\n",
    "def addmul(x):      \n",
    "    return (x + 10) * 10 # 10을 더한 후 10을 곱한 값을 반환\n",
    "\n",
    "print(list(filter(odd, lis))) # 홀수만 남김\n",
    "print(list(filter(even, lis))) # 짝수만 남김\n",
    "print(list(map(add, lis))) # 10을 더한 값\n",
    "print(list(map(mul, lis))) # 10을 곱한 값\n",
    "print(list(map(addmul, lis))) # 10을 더한 후 10을 곱한 값"
   ]
  },
  {
   "cell_type": "markdown",
   "id": "206372f4",
   "metadata": {},
   "source": [
    "# 2일차"
   ]
  },
  {
   "cell_type": "code",
   "execution_count": null,
   "id": "0f137103",
   "metadata": {},
   "outputs": [
    {
     "name": "stdout",
     "output_type": "stream",
     "text": [
      "5\n",
      "o\n",
      "1\n",
      "104 101 108 108 111\n"
     ]
    }
   ],
   "source": [
    "# max\n",
    "print(max((1, 2, 3, 4, 5))) # 최대값\n",
    "print(max(\"hello\")) # 아스키코드에서 최대값인 'o'를 반환\n",
    "print(min((1, 2, 3, 4, 5))) # 최소값\n",
    "print(ord('h'), ord('e'), ord('l'), ord('l'), ord('o'))  # 'hello'의 최대 아스키 코드 값\n"
   ]
  },
  {
   "cell_type": "code",
   "execution_count": 4,
   "id": "1657161b",
   "metadata": {},
   "outputs": [
    {
     "name": "stdout",
     "output_type": "stream",
     "text": [
      "1\n",
      "e\n",
      "1\n",
      "104 101 108 108 111\n"
     ]
    }
   ],
   "source": [
    "# min\n",
    "print(min((1, 2, 3, 4, 5))) # 최대값\n",
    "print(min(\"hello\")) # 아스키코드에서 최대값인 'o'를 반환\n",
    "print(min((1, 2, 3, 4, 5))) # 최소값\n",
    "print(ord('h'), ord('e'), ord('l'), ord('l'), ord('o'))  # 'hello'의 최대 아스키 코드 값"
   ]
  },
  {
   "cell_type": "code",
   "execution_count": 6,
   "id": "ea8c90bb",
   "metadata": {},
   "outputs": [
    {
     "name": "stdout",
     "output_type": "stream",
     "text": [
      "256\n",
      "65536\n",
      "4294967296\n"
     ]
    }
   ],
   "source": [
    "#pow\n",
    "print(pow(2, 8)) # 2의 8제곱\n",
    "print(pow(2, 16)) # 2의 8제곱\n",
    "print(pow(2, 32)) # 2의 8제곱"
   ]
  },
  {
   "cell_type": "code",
   "execution_count": 7,
   "id": "c5375112",
   "metadata": {},
   "outputs": [
    {
     "name": "stdout",
     "output_type": "stream",
     "text": [
      "3\n",
      "3.1\n",
      "3.14\n",
      "3.142\n"
     ]
    }
   ],
   "source": [
    "# round + 반올림\n",
    "print(round(3.14159))\n",
    "print(round(3.14159,1))\n",
    "print(round(3.14159,2))\n",
    "print(round(3.14159,3))"
   ]
  },
  {
   "cell_type": "code",
   "execution_count": null,
   "id": "162c6ab5",
   "metadata": {},
   "outputs": [
    {
     "name": "stdout",
     "output_type": "stream",
     "text": [
      "3.14159\n"
     ]
    }
   ],
   "source": [
    "pi = 3.14159\n",
    "print(pi)\n",
    "print(f\"{pi:.1f}\")  # 소수점 넷째 자리까지 출력\n",
    "print(f\"{pi:.2f}\")  # 소수점 둘째 자리까지 출력\n",
    "print(f\"{pi:.3f}\")  # 소수점 셋째 자리까지 출력"
   ]
  },
  {
   "cell_type": "code",
   "execution_count": 9,
   "id": "56d20201",
   "metadata": {},
   "outputs": [
    {
     "name": "stdout",
     "output_type": "stream",
     "text": [
      "[0, 1, 2, 3, 4, 5, 6, 7, 8, 9]\n",
      "[0, 2, 4, 6, 8]\n",
      "[10, 9, 8, 7, 6, 5, 4, 3, 2, 1]\n",
      "[9, 8, 7, 6, 5, 4, 3, 2, 1, 0]\n"
     ]
    }
   ],
   "source": [
    "print(list((range(0,10,1)))) # range(10) 과 동일\n",
    "print(list(range(0, 10, 2)))  # range(0, 10, 1)과 동일\n",
    "print(list(range(10,0,-1)))  # range(0, 10)과 동일\n",
    "print(list(range(9,-1,-1)))  # range(0, 10)과 동일"
   ]
  },
  {
   "cell_type": "code",
   "execution_count": 10,
   "id": "fa63ef27",
   "metadata": {},
   "outputs": [
    {
     "name": "stdout",
     "output_type": "stream",
     "text": [
      "[3, 1, 4, 2, 5, 8, 6, 7, 9]\n",
      "[1, 2, 3, 4, 5, 6, 7, 8, 9]\n",
      "[9, 8, 7, 6, 5, 4, 3, 2, 1]\n"
     ]
    }
   ],
   "source": [
    "# sorted(iterable) *정렬된 리스트로 리턴\n",
    "s0 = [3,1,4,2,5,8,6,7,9]\n",
    "s1 = sorted(s0) # 오름차순 정렬\n",
    "s2 = sorted(s0, reverse=True) # 내림차순 정렬   \n",
    "print(s0)\n",
    "print(s1)\n",
    "print(s2)"
   ]
  },
  {
   "cell_type": "code",
   "execution_count": 11,
   "id": "681ad067",
   "metadata": {},
   "outputs": [
    {
     "name": "stdout",
     "output_type": "stream",
     "text": [
      "23 <class 'int'>\n",
      "23 <class 'str'>\n",
      "23 <class 'int'>\n"
     ]
    }
   ],
   "source": [
    "num = 23\n",
    "st = str(num) # 숫자를 문자열로 변환\n",
    "print(num, type(num)) \n",
    "print(st, type(st)) # 문자열로 변환된 num과 그 타입 출력\n",
    "num2 = int(st) # 문자열을 다시 숫자로 변환\n",
    "print(num2, type(num2)) # 변환된 num2와 그 타입 출력"
   ]
  },
  {
   "cell_type": "code",
   "execution_count": 12,
   "id": "a91e9faf",
   "metadata": {},
   "outputs": [
    {
     "name": "stdout",
     "output_type": "stream",
     "text": [
      "45\n",
      "2550\n"
     ]
    }
   ],
   "source": [
    "s3 = [3,1,4,2,5,8,6,7,9,0]\n",
    "print(sum(s3)) # 리스트의 합\n",
    "print(sum(list(range(0, 101, 2)))) # 0부터 100까지의 짝수 합"
   ]
  },
  {
   "cell_type": "code",
   "execution_count": 14,
   "id": "d2c83c5e",
   "metadata": {},
   "outputs": [
    {
     "name": "stdout",
     "output_type": "stream",
     "text": [
      " C ����̺��� �������� �̸��� �����ϴ�.\n",
      " ���� �Ϸ� ��ȣ: 286E-E651\n",
      "\n",
      " c:\\kwon\\Untitled Folder ���͸�\n",
      "\n",
      "[.]                  [..]                 [.ipynb_checkpoints]\n",
      "myserver.bat         py01.ipynb           test.txt\n",
      "               3�� ����              15,209 ����Ʈ\n",
      "               3�� ���͸�   7,314,767,872 ����Ʈ ����\n"
     ]
    }
   ],
   "source": [
    "!dir/w"
   ]
  },
  {
   "cell_type": "code",
   "execution_count": 22,
   "id": "eaa0ee96",
   "metadata": {},
   "outputs": [
    {
     "name": "stdout",
     "output_type": "stream",
     "text": [
      "\n"
     ]
    }
   ],
   "source": [
    "# open 으로 파일 읽기\n",
    "f = open(\"C:\\\\kwon\\\\test\", \"r\", encoding = \"utf-8\") # 파일 열기, // 'w'는 쓰기 모드, 'r' 는 읽기 모드, 'a'는 추가모드\n",
    "contents = f.read()\n",
    "print(contents) # 파일 내용 출력\n",
    "f.close() # 파일 닫기"
   ]
  },
  {
   "cell_type": "code",
   "execution_count": 23,
   "id": "a127c5e4",
   "metadata": {},
   "outputs": [],
   "source": [
    "# open 으로 파일 쓰기\n",
    "f = open(\"C:\\\\kwon\\\\test\", \"w\", encoding = \"utf-8\") # 파일 열기, // 'w'는 쓰기 모드, 'r' 는 읽기 모드, 'a'는 추가모드\n",
    "f.write(\"제가 프로그래밍으로 내용을 작성하였습니다..\\n\") # 파일에 내용 쓰기\n",
    "f.close() # 파일 닫기"
   ]
  },
  {
   "cell_type": "code",
   "execution_count": 26,
   "id": "3441e42a",
   "metadata": {},
   "outputs": [
    {
     "name": "stdout",
     "output_type": "stream",
     "text": [
      "\n"
     ]
    }
   ],
   "source": [
    "f = open(\"C:\\\\kwon\\\\Untitled Folder\\\\숫자놀이.txt\", \"r\", encoding=\"utf-8\")\n",
    "contents = f.read()\n",
    "print(contents)\n",
    "f.close()"
   ]
  },
  {
   "cell_type": "code",
   "execution_count": null,
   "id": "948898a3",
   "metadata": {},
   "outputs": [
    {
     "ename": "SyntaxError",
     "evalue": "invalid syntax (830999129.py, line 1)",
     "output_type": "error",
     "traceback": [
      "  \u001b[36mCell\u001b[39m\u001b[36m \u001b[39m\u001b[32mIn[32]\u001b[39m\u001b[32m, line 1\u001b[39m\n\u001b[31m    \u001b[39m\u001b[31mpython 숫자놀이.py\u001b[39m\n           ^\n\u001b[31mSyntaxError\u001b[39m\u001b[31m:\u001b[39m invalid syntax\n"
     ]
    }
   ],
   "source": []
  },
  {
   "cell_type": "code",
   "execution_count": 69,
   "id": "40d90c78",
   "metadata": {},
   "outputs": [],
   "source": [
    "with open(\"C:\\\\kwon\\\\Untitled Folder\\\\숫자놀이.txt\", \"w\", encoding=\"utf-8\") as f: # 파일 쓰기 모드 w\n",
    "    for i in range(1, 101): # 1부터 100까지 반복\n",
    "        if i % 3 == 0 and i % 5 == 0: \n",
    "            f.write(\"오예\\n\")  # 3과 5의 배수인 경우 \"오예\" 출력\n",
    "        elif i % 3 == 0:\n",
    "            f.write(\"짝\\n\")    # 3의 배수인 경우 \"짝\" 출력\n",
    "        elif i % 5 == 0:\n",
    "            f.write(\"오\\n\")    # 5의 배수인 경우 \"오\" 출력\n",
    "        else:\n",
    "            f.write(f\"{i}\\n\")  # 나머지 숫자는 그대로 출력\n"
   ]
  },
  {
   "cell_type": "code",
   "execution_count": 70,
   "id": "0bce338f",
   "metadata": {},
   "outputs": [
    {
     "name": "stdout",
     "output_type": "stream",
     "text": [
      "1\n",
      "2\n",
      "짝\n",
      "4\n",
      "오\n",
      "짝\n",
      "7\n",
      "8\n",
      "짝\n",
      "오\n",
      "11\n",
      "짝\n",
      "13\n",
      "14\n",
      "오예\n",
      "16\n",
      "17\n",
      "짝\n",
      "19\n",
      "오\n",
      "짝\n",
      "22\n",
      "23\n",
      "짝\n",
      "오\n",
      "26\n",
      "짝\n",
      "28\n",
      "29\n",
      "오예\n",
      "31\n",
      "32\n",
      "짝\n",
      "34\n",
      "오\n",
      "짝\n",
      "37\n",
      "38\n",
      "짝\n",
      "오\n",
      "41\n",
      "짝\n",
      "43\n",
      "44\n",
      "오예\n",
      "46\n",
      "47\n",
      "짝\n",
      "49\n",
      "오\n",
      "짝\n",
      "52\n",
      "53\n",
      "짝\n",
      "오\n",
      "56\n",
      "짝\n",
      "58\n",
      "59\n",
      "오예\n",
      "61\n",
      "62\n",
      "짝\n",
      "64\n",
      "오\n",
      "짝\n",
      "67\n",
      "68\n",
      "짝\n",
      "오\n",
      "71\n",
      "짝\n",
      "73\n",
      "74\n",
      "오예\n",
      "76\n",
      "77\n",
      "짝\n",
      "79\n",
      "오\n",
      "짝\n",
      "82\n",
      "83\n",
      "짝\n",
      "오\n",
      "86\n",
      "짝\n",
      "88\n",
      "89\n",
      "오예\n",
      "91\n",
      "92\n",
      "짝\n",
      "94\n",
      "오\n",
      "짝\n",
      "97\n",
      "98\n",
      "짝\n",
      "오\n",
      "\n"
     ]
    }
   ],
   "source": [
    "with open(\"C:\\\\kwon\\\\Untitled Folder\\\\숫자놀이.txt\", \"r\", encoding=\"utf-8\") as f: # 파일 읽고 내용 출력\n",
    "    contents = f.read()\n",
    "    print(contents)"
   ]
  },
  {
   "cell_type": "code",
   "execution_count": 63,
   "id": "c2e9d1a7",
   "metadata": {},
   "outputs": [
    {
     "name": "stdout",
     "output_type": "stream",
     "text": [
      "점수와 학점이 파일에 저장되었습니다.\n"
     ]
    }
   ],
   "source": [
    "# if elif else 조건 실습\n",
    "학생들 = [90,82,45,71,60]\n",
    "\n",
    "with open(\"C:\\\\kwon\\\\Untitled Folder\\\\점수.txt\", \"w\", encoding=\"utf-8\") as f:\n",
    "    for 점수 in 학생들:\n",
    "        if 점수 >= 90:\n",
    "            학점 = \"A\"\n",
    "        elif 점수 >= 80:\n",
    "            학점 = \"B\"\n",
    "        elif 점수 >= 70:\n",
    "            학점 = \"C\"\n",
    "        elif 점수 >= 60:\n",
    "            학점 = \"D\"\n",
    "        else :\n",
    "            학점 = \"F\"\n",
    "        f.write(f\"점수: {점수}, 학점: {학점}\\n\")\n",
    "print(f\"점수와 학점이 파일에 저장되었습니다.\")"
   ]
  },
  {
   "cell_type": "code",
   "execution_count": null,
   "id": "58973b5d",
   "metadata": {},
   "outputs": [
    {
     "name": "stdout",
     "output_type": "stream",
     "text": [
      "점수와 학점이 파일에 저장저장저장저장저장되었습니당.\n"
     ]
    }
   ],
   "source": [
    "# if 조건만 실습\n",
    "학생들 = [90,82,45,71,60,122]\n",
    "try:\n",
    "    f = open(\"C:\\\\kwon\\\\Untitled Folder\\\\점수2.txt\", \"w\", encoding=\"utf-8\")\n",
    "    for 점수 in 학생들:\n",
    "        if 점수 > 100 or 점수 < 0:\n",
    "            f.write(f\"에러발생중단\")\n",
    "            raise ValueError(\"점수는 0에서 100 사이여야 합니다.\")\n",
    "        if 점수 >= 90 and 점수 < 100:\n",
    "            학점 = \"A\"\n",
    "        if 점수 >= 80 and 점수 < 90:\n",
    "            학점 = \"B\"\n",
    "        if 점수 >= 70 and 점수 < 80:\n",
    "            학점 = \"C\"\n",
    "        if 점수 >= 60 and 점수 < 70:\n",
    "            학점 = \"D\"\n",
    "        if 점수 < 60:\n",
    "            학점 = \"F\"\n",
    "        f.write(f\"점수: {점수}, 학점: {학점}\\n\")\n",
    "except Exception as e:\n",
    "    print(f\"오류가 발생했습니다: {e}\")\n",
    "finally:\n",
    "    f.close()\n",
    "print(f\"점수와 학점이 파일에 저장저장저장저장저장되었습니당.\")"
   ]
  },
  {
   "cell_type": "markdown",
   "id": "d80dd29c",
   "metadata": {},
   "source": [
    "## 표준 라이브러리"
   ]
  },
  {
   "cell_type": "code",
   "execution_count": 87,
   "id": "5fba1740",
   "metadata": {},
   "outputs": [
    {
     "name": "stdout",
     "output_type": "stream",
     "text": [
      "2025-01-22와 2025-08-14의 차이는 204일입니다.\n",
      "****************************************\n",
      " 전체 수업기간:  204 일\n",
      " 남은 수업기간: 37 일\n",
      " 지난 수업기간: 167 일\n"
     ]
    }
   ],
   "source": [
    "# datetime 모듈\n",
    "import datetime\n",
    "day1 = datetime.date(2025, 1, 22) # 날짜 객체 생성\n",
    "day2 = datetime.date(2025, 8, 14) # 또 다른 날짜 객체 생성\n",
    "diff = day2 - day1 # 날짜 차이 계산\n",
    "diff2 = day2 - datetime.datetime.now().date() # 오늘 날짜와의 차이 계산\n",
    "print(f\"{day1}와 {day2}의 차이는 {diff.days}일입니다.\") # 날짜 차이 출력\n",
    "print(\"*\" * 40)\n",
    "print(\" 전체 수업기간: \", diff.days, \"일\")\n",
    "print(\" 남은 수업기간:\",diff2.days, \"일\")\n",
    "print(\" 지난 수업기간:\", diff.days - diff2.days, \"일\")"
   ]
  },
  {
   "cell_type": "code",
   "execution_count": 89,
   "id": "4aed29e7",
   "metadata": {},
   "outputs": [
    {
     "name": "stdout",
     "output_type": "stream",
     "text": [
      "1998-04-06는 월요일입니다.\n"
     ]
    }
   ],
   "source": [
    "# 요일 확인\n",
    "days = [\"월\", \"화\", \"수\", \"목\", \"금\", \"토\", \"일\"]\n",
    "day = datetime.date(1998, 4, 6)\n",
    "print(f\"{day}는 {days[day.weekday()]}요일입니다.\") # 요일 출력"
   ]
  },
  {
   "cell_type": "code",
   "execution_count": 91,
   "id": "f969ba2b",
   "metadata": {},
   "outputs": [
    {
     "name": "stdout",
     "output_type": "stream",
     "text": [
      "1751953240.8029382\n"
     ]
    }
   ],
   "source": [
    "#time\n",
    "import time\n",
    "print(time.time()) # 현재 시간 출력     "
   ]
  },
  {
   "cell_type": "code",
   "execution_count": 93,
   "id": "72fad383",
   "metadata": {},
   "outputs": [
    {
     "name": "stdout",
     "output_type": "stream",
     "text": [
      "time.struct_time(tm_year=2025, tm_mon=7, tm_mday=8, tm_hour=14, tm_min=42, tm_sec=38, tm_wday=1, tm_yday=189, tm_isdst=0)\n",
      "2025\n"
     ]
    }
   ],
   "source": [
    "# time.localtime() # 현재 시간을 로컬 시간으로 변환\n",
    "tt = time.localtime(time.time()) # 현재 시간을 로컬 시간으로 변환\n",
    "print(tt) # 로컬 시간 출력\n",
    "print(tt.tm_year)"
   ]
  },
  {
   "cell_type": "code",
   "execution_count": 94,
   "id": "77d08048",
   "metadata": {},
   "outputs": [
    {
     "name": "stdout",
     "output_type": "stream",
     "text": [
      "Tue Jul  8 14:42:38 2025\n"
     ]
    }
   ],
   "source": [
    "#time.asctime() # 현재 시간을 문자열로 변환\n",
    "print(time.asctime(tt)) # 로컬 시간을 문자열로 변환하여 출력"
   ]
  },
  {
   "cell_type": "code",
   "execution_count": 95,
   "id": "a20cf314",
   "metadata": {},
   "outputs": [
    {
     "name": "stdout",
     "output_type": "stream",
     "text": [
      "Tue Jul  8 14:44:47 2025\n"
     ]
    }
   ],
   "source": [
    "#time.ctime() # 현재 시간을 문자열로 변환\n",
    "print(time.ctime()) # 현재 시간을 문자열로 변환하여 출력"
   ]
  },
  {
   "cell_type": "code",
   "execution_count": 98,
   "id": "e62a403d",
   "metadata": {},
   "outputs": [
    {
     "name": "stdout",
     "output_type": "stream",
     "text": [
      "2025-07-08 // 14:42:38\n"
     ]
    }
   ],
   "source": [
    "# time.strftime() # 현재 시간을 문자열로 변환\n",
    "print(time.strftime(\"%Y-%m-%d // %H:%M:%S\", tt)) # 로컬 시간을 문자열로 변환하여 출력"
   ]
  },
  {
   "cell_type": "code",
   "execution_count": 100,
   "id": "2ef21a2a",
   "metadata": {},
   "outputs": [
    {
     "name": "stdout",
     "output_type": "stream",
     "text": [
      "카운트: 100\r"
     ]
    }
   ],
   "source": [
    "import time as t\n",
    "for i in range(100):\n",
    "    print(f\"카운트: {i+1}\", end=\"\\r\") # 1부터 100까지 카운트 출력\n",
    "    t.sleep(1) # 0.1초 대기"
   ]
  },
  {
   "cell_type": "code",
   "execution_count": 104,
   "id": "3c1173bf",
   "metadata": {},
   "outputs": [
    {
     "name": "stdout",
     "output_type": "stream",
     "text": [
      "99 % | ㅁㅁㅁㅁㅁㅁㅁㅁㅁㅁㅁㅁㅁㅁㅁㅁㅁㅁㅁㅁㅁㅁㅁㅁㅁㅁㅁㅁㅁㅁㅁㅁㅁㅁㅁㅁㅁㅁㅁㅁㅁㅁㅁㅁㅁㅁㅁㅁㅁㅁㅁㅁㅁㅁㅁㅁㅁㅁㅁㅁㅁㅁㅁㅁㅁㅁㅁㅁㅁㅁㅁㅁㅁㅁㅁㅁㅁㅁㅁㅁㅁㅁㅁㅁㅁㅁㅁㅁㅁㅁㅁㅁㅁㅁㅁㅁㅁㅁㅁ\r"
     ]
    }
   ],
   "source": [
    "import time as t\n",
    "str = 'ㅁ'\n",
    "for i in range(100):\n",
    "    print(f\"{i:<3}% | {str*(i//1):<10}\", end=\"\\r\")\n",
    "    t.sleep(0.1)"
   ]
  },
  {
   "cell_type": "code",
   "execution_count": 107,
   "id": "8cbaa97d",
   "metadata": {},
   "outputs": [
    {
     "name": "stdout",
     "output_type": "stream",
     "text": [
      "3.141592653589793\n",
      "2.718281828459045\n",
      "5\n",
      "60\n"
     ]
    }
   ],
   "source": [
    "# math 모듈\n",
    "import math\n",
    "print(math.pi) # 원주율 π 출력\n",
    "print(math.e) # 자연상수 e 출력\n",
    "# gcd, lcm\n",
    "print(math.gcd(60, 15, 100)) # 최대 공약수\n",
    "print(math.lcm(12, 15)) # 최소 공배수"
   ]
  },
  {
   "cell_type": "code",
   "execution_count": 111,
   "id": "ff52a330",
   "metadata": {},
   "outputs": [
    {
     "name": "stdout",
     "output_type": "stream",
     "text": [
      "0.9070983202789572\n",
      "8\n"
     ]
    }
   ],
   "source": [
    "#random 모듈\n",
    "import random\n",
    "print(random.random()) # 0.0부터 1.0까지의 랜덤 실수 생성\n",
    "print(random.randint(1,10)) # 1부터 10까지의 랜덤 정수 생성"
   ]
  },
  {
   "cell_type": "code",
   "execution_count": 112,
   "id": "54acd0b7",
   "metadata": {},
   "outputs": [
    {
     "name": "stdout",
     "output_type": "stream",
     "text": [
      "7\n"
     ]
    }
   ],
   "source": [
    "import random\n",
    "print(random.randint(1,45))"
   ]
  },
  {
   "cell_type": "code",
   "execution_count": 145,
   "id": "d9441c0e",
   "metadata": {},
   "outputs": [
    {
     "name": "stdout",
     "output_type": "stream",
     "text": [
      "1등 당첨 번호: [4, 6, 9, 11, 22, 27]\n"
     ]
    }
   ],
   "source": [
    "import random\n",
    "로또번호 = sorted(random.sample(range(1, 46), 6)) # 무작위로 뽑은 6개 숫자를 sorted를 써서 오름차순으로 만들어준다.\n",
    "print(\"1등 당첨 번호:\", 로또번호)"
   ]
  },
  {
   "cell_type": "markdown",
   "id": "9c88aa62",
   "metadata": {},
   "source": [
    "## tools"
   ]
  },
  {
   "cell_type": "code",
   "execution_count": 150,
   "id": "eef3d968",
   "metadata": {},
   "outputs": [
    {
     "name": "stdout",
     "output_type": "stream",
     "text": [
      "[('한민서', '과자'), ('김지민', '음료수'), ('박준영', '과일'), ('이수현', '샌드위치')]\n",
      "[('한민서', '과자'), ('김지민', '음료수'), ('박준영', '과일'), ('이수현', '샌드위치'), ('최영수', '칸초')]\n"
     ]
    }
   ],
   "source": [
    "import itertools\n",
    "students = [\"한민서\", \"김지민\", \"박준영\", \"이수현\", \"최영수\"]\n",
    "snacks = [\"과자\", \"음료수\", \"과일\", \"샌드위치\",]\n",
    "result = zip(students, snacks) # 학생과 간식을 묶어서 출력 zip은 작은 배열에 길이를 맞춤\n",
    "print(list(result)) # 리스트로 변환하여 출력\n",
    "\n",
    "result2 = itertools.zip_longest(students, snacks, fillvalue=\"칸초\") # 짝이 없는 학생은 \"칸초\"로 채움\n",
    "print(list(result2)) # 리스트로 변환하여 출력"
   ]
  },
  {
   "cell_type": "markdown",
   "id": "409b10d6",
   "metadata": {},
   "source": [
    "## OS"
   ]
  },
  {
   "cell_type": "code",
   "execution_count": 154,
   "id": "a7906661",
   "metadata": {},
   "outputs": [
    {
     "ename": "PermissionError",
     "evalue": "[WinError 21] 장치가 준비되지 않았습니다: 'D:\\\\kwon\\\\Untitled Folder\\\\public'",
     "output_type": "error",
     "traceback": [
      "\u001b[31m---------------------------------------------------------------------------\u001b[39m",
      "\u001b[31mPermissionError\u001b[39m                           Traceback (most recent call last)",
      "\u001b[36mCell\u001b[39m\u001b[36m \u001b[39m\u001b[32mIn[154]\u001b[39m\u001b[32m, line 3\u001b[39m\n\u001b[32m      1\u001b[39m \u001b[38;5;28;01mimport\u001b[39;00m\u001b[38;5;250m \u001b[39m\u001b[34;01mos\u001b[39;00m\n\u001b[32m      2\u001b[39m os.environ[\u001b[33m'\u001b[39m\u001b[33mPATH\u001b[39m\u001b[33m'\u001b[39m] \u001b[38;5;66;03m# 환경 변수 PATH 출력\u001b[39;00m\n\u001b[32m----> \u001b[39m\u001b[32m3\u001b[39m \u001b[43mos\u001b[49m\u001b[43m.\u001b[49m\u001b[43mchdir\u001b[49m\u001b[43m(\u001b[49m\u001b[33;43m\"\u001b[39;49m\u001b[33;43mD:\u001b[39;49m\u001b[38;5;130;43;01m\\\\\u001b[39;49;00m\u001b[33;43mkwon\u001b[39;49m\u001b[38;5;130;43;01m\\\\\u001b[39;49;00m\u001b[33;43mUntitled Folder\u001b[39;49m\u001b[38;5;130;43;01m\\\\\u001b[39;49;00m\u001b[33;43mpublic\u001b[39;49m\u001b[33;43m\"\u001b[39;49m\u001b[43m)\u001b[49m \u001b[38;5;66;03m# 현재 작업 디렉토리 변경\u001b[39;00m\n\u001b[32m      4\u001b[39m os.getcwd() \u001b[38;5;66;03m# 현재 작업 디렉토리 출력\u001b[39;00m\n\u001b[32m      5\u001b[39m os.listdir() \u001b[38;5;66;03m# 현재 작업 디렉토리의 파일 목록 출력\u001b[39;00m\n",
      "\u001b[31mPermissionError\u001b[39m: [WinError 21] 장치가 준비되지 않았습니다: 'D:\\\\kwon\\\\Untitled Folder\\\\public'"
     ]
    }
   ],
   "source": [
    "import os\n",
    "os.environ['PATH'] # 환경 변수 PATH 출력\n",
    "os.chdir(\"D:\\\\kwon\\\\Untitled Folder\\\\public\") # 현재 작업 디렉토리 변경\n",
    "os.getcwd() # 현재 작업 디렉토리 출력\n",
    "os.listdir() # 현재 작업 디렉토리의 파일 목록 출력"
   ]
  },
  {
   "cell_type": "code",
   "execution_count": 156,
   "id": "e191577b",
   "metadata": {},
   "outputs": [
    {
     "name": "stdout",
     "output_type": "stream",
     "text": [
      "Collecting faker\n",
      "  Downloading faker-37.4.0-py3-none-any.whl.metadata (15 kB)\n",
      "Collecting tzdata (from faker)\n",
      "  Downloading tzdata-2025.2-py2.py3-none-any.whl.metadata (1.4 kB)\n",
      "Downloading faker-37.4.0-py3-none-any.whl (1.9 MB)\n",
      "   ---------------------------------------- 0.0/1.9 MB ? eta -:--:--\n",
      "   ----- ---------------------------------- 0.3/1.9 MB ? eta -:--:--\n",
      "   ---------- ----------------------------- 0.5/1.9 MB 1.3 MB/s eta 0:00:02\n",
      "   ---------- ----------------------------- 0.5/1.9 MB 1.3 MB/s eta 0:00:02\n",
      "   ---------------- ----------------------- 0.8/1.9 MB 1.0 MB/s eta 0:00:02\n",
      "   --------------------- ------------------ 1.0/1.9 MB 975.6 kB/s eta 0:00:01\n",
      "   -------------------------- ------------- 1.3/1.9 MB 977.6 kB/s eta 0:00:01\n",
      "   -------------------------------- ------- 1.6/1.9 MB 1.0 MB/s eta 0:00:01\n",
      "   ------------------------------------- -- 1.8/1.9 MB 1.1 MB/s eta 0:00:01\n",
      "   ---------------------------------------- 1.9/1.9 MB 1.0 MB/s eta 0:00:00\n",
      "Downloading tzdata-2025.2-py2.py3-none-any.whl (347 kB)\n",
      "Installing collected packages: tzdata, faker\n",
      "\n",
      "   ---------------------------------------- 0/2 [tzdata]\n",
      "   -------------------- ------------------- 1/2 [faker]\n",
      "   -------------------- ------------------- 1/2 [faker]\n",
      "   -------------------- ------------------- 1/2 [faker]\n",
      "   -------------------- ------------------- 1/2 [faker]\n",
      "   -------------------- ------------------- 1/2 [faker]\n",
      "   -------------------- ------------------- 1/2 [faker]\n",
      "   -------------------- ------------------- 1/2 [faker]\n",
      "   -------------------- ------------------- 1/2 [faker]\n",
      "   -------------------- ------------------- 1/2 [faker]\n",
      "   -------------------- ------------------- 1/2 [faker]\n",
      "   -------------------- ------------------- 1/2 [faker]\n",
      "   -------------------- ------------------- 1/2 [faker]\n",
      "   -------------------- ------------------- 1/2 [faker]\n",
      "   -------------------- ------------------- 1/2 [faker]\n",
      "   -------------------- ------------------- 1/2 [faker]\n",
      "   -------------------- ------------------- 1/2 [faker]\n",
      "   -------------------- ------------------- 1/2 [faker]\n",
      "   -------------------- ------------------- 1/2 [faker]\n",
      "   -------------------- ------------------- 1/2 [faker]\n",
      "   -------------------- ------------------- 1/2 [faker]\n",
      "   -------------------- ------------------- 1/2 [faker]\n",
      "   -------------------- ------------------- 1/2 [faker]\n",
      "   -------------------- ------------------- 1/2 [faker]\n",
      "   -------------------- ------------------- 1/2 [faker]\n",
      "   -------------------- ------------------- 1/2 [faker]\n",
      "   -------------------- ------------------- 1/2 [faker]\n",
      "   -------------------- ------------------- 1/2 [faker]\n",
      "   -------------------- ------------------- 1/2 [faker]\n",
      "   -------------------- ------------------- 1/2 [faker]\n",
      "   -------------------- ------------------- 1/2 [faker]\n",
      "   -------------------- ------------------- 1/2 [faker]\n",
      "   -------------------- ------------------- 1/2 [faker]\n",
      "   ---------------------------------------- 2/2 [faker]\n",
      "\n",
      "Successfully installed faker-37.4.0 tzdata-2025.2\n"
     ]
    }
   ],
   "source": [
    "!pip install faker"
   ]
  },
  {
   "cell_type": "code",
   "execution_count": 158,
   "id": "91d317c3",
   "metadata": {},
   "outputs": [
    {
     "data": {
      "text/plain": [
       "[{'name': '엄건우',\n",
       "  'phone': '042-659-7981',\n",
       "  'address': '대전광역시 영등포구 영동대길 지하507',\n",
       "  'phone_number': '051-763-1386'},\n",
       " {'name': '이명숙',\n",
       "  'phone': '010-0151-0956',\n",
       "  'address': '경상남도 파주시 서초대3거리 925-16 (예진김리)',\n",
       "  'phone_number': '033-734-8295'},\n",
       " {'name': '이우진',\n",
       "  'phone': '016-796-9422',\n",
       "  'address': '충청남도 광명시 강남대324거리 442-94 (미숙김리)',\n",
       "  'phone_number': '064-715-6591'},\n",
       " {'name': '박정식',\n",
       "  'phone': '064-724-9826',\n",
       "  'address': '대전광역시 송파구 서초대2로 526 (지훈이동)',\n",
       "  'phone_number': '016-536-1305'},\n",
       " {'name': '박지후',\n",
       "  'phone': '019-184-2818',\n",
       "  'address': '충청북도 예산군 압구정98길 194 (윤서유면)',\n",
       "  'phone_number': '042-691-8271'}]"
      ]
     },
     "execution_count": 158,
     "metadata": {},
     "output_type": "execute_result"
    }
   ],
   "source": [
    "from faker import Faker\n",
    "fake = Faker('ko_KR') # Faker 라이브러리로 한국어 데이터 생성\n",
    "[{\"name\": fake.name(), \"phone\": fake.phone_number(), \"address\": fake.address(), \"phone_number\": fake.phone_number()} for _ in range(5)] # 5개의 더미 데이터 생성"
   ]
  },
  {
   "cell_type": "code",
   "execution_count": null,
   "id": "ce5b716a",
   "metadata": {},
   "outputs": [],
   "source": []
  },
  {
   "cell_type": "code",
   "execution_count": null,
   "id": "386c2ce5",
   "metadata": {},
   "outputs": [],
   "source": []
  }
 ],
 "metadata": {
  "kernelspec": {
   "display_name": "Python 3 (ipykernel)",
   "language": "python",
   "name": "python3"
  },
  "language_info": {
   "codemirror_mode": {
    "name": "ipython",
    "version": 3
   },
   "file_extension": ".py",
   "mimetype": "text/x-python",
   "name": "python",
   "nbconvert_exporter": "python",
   "pygments_lexer": "ipython3",
   "version": "3.13.3"
  }
 },
 "nbformat": 4,
 "nbformat_minor": 5
}
